{
 "cells": [
  {
   "cell_type": "markdown",
   "id": "477d5f22",
   "metadata": {},
   "source": [
    "# Data Science Tools and Ecosystem\n"
   ]
  },
  {
   "cell_type": "markdown",
   "id": "ca972a76",
   "metadata": {},
   "source": [
    "## In this notebook, Data Science Tools and Ecosystem are summarized."
   ]
  },
  {
   "cell_type": "markdown",
   "id": "470534a2",
   "metadata": {},
   "source": [
    "### Some of the popular languages that Data Scientists use are:\n",
    "\n",
    "#### 1. Python\n",
    "#### 2. R\n",
    "#### 3. Julia\n",
    "#### 4. Scala\n"
   ]
  },
  {
   "cell_type": "markdown",
   "id": "285e6b25",
   "metadata": {},
   "source": [
    "__Objectives:__\n",
    "\n",
    "+ List of Popular Data Science Languages\n",
    "+ List of Commonly Used Libraries\n",
    "+ How to perform Arithmetic Expression"
   ]
  },
  {
   "cell_type": "markdown",
   "id": "a7284cfd",
   "metadata": {},
   "source": [
    "### Some of the commonly used libraries used by Data Scientists include:\n",
    "\n",
    "#### 1. Numpy\n",
    "#### 2. Scikit-learn\n",
    "#### 3. Pandas\n",
    "#### 4. TensorFlow"
   ]
  },
  {
   "cell_type": "markdown",
   "id": "6e9a5801",
   "metadata": {},
   "source": [
    "|Data Science Tools|\n",
    "-----------------------------\n",
    "|R Studio|\n",
    "|Jupyter Notebook|\n",
    "|PyCharm|\n",
    "|Spyder|"
   ]
  },
  {
   "cell_type": "markdown",
   "id": "29792515",
   "metadata": {},
   "source": [
    "### Below are a few examples of evaluating arithmetic expressions in Python"
   ]
  },
  {
   "cell_type": "code",
   "execution_count": 1,
   "id": "a3e9932b",
   "metadata": {},
   "outputs": [
    {
     "data": {
      "text/plain": [
       "17"
      ]
     },
     "execution_count": 1,
     "metadata": {},
     "output_type": "execute_result"
    }
   ],
   "source": [
    "# his a simple arithmetic expression to mutiply then add integers\n",
    "(3*4)+5"
   ]
  },
  {
   "cell_type": "code",
   "execution_count": 3,
   "id": "a1680b62",
   "metadata": {},
   "outputs": [
    {
     "data": {
      "text/plain": [
       "3.3333333333333335"
      ]
     },
     "execution_count": 3,
     "metadata": {},
     "output_type": "execute_result"
    }
   ],
   "source": [
    "# his will convert 200 minutes to hours by diving by 60\n",
    "\n",
    "hour = 200/60\n",
    "hour"
   ]
  },
  {
   "cell_type": "markdown",
   "id": "02e1995a",
   "metadata": {},
   "source": [
    "## Author\n",
    "Saad Ahmad"
   ]
  },
  {
   "cell_type": "code",
   "execution_count": null,
   "id": "f30923d1",
   "metadata": {},
   "outputs": [],
   "source": []
  },
  {
   "cell_type": "code",
   "execution_count": null,
   "id": "96cfd6f9",
   "metadata": {},
   "outputs": [],
   "source": []
  },
  {
   "cell_type": "code",
   "execution_count": null,
   "id": "554bd4a2",
   "metadata": {},
   "outputs": [],
   "source": []
  },
  {
   "cell_type": "code",
   "execution_count": null,
   "id": "2613da05",
   "metadata": {},
   "outputs": [],
   "source": []
  }
 ],
 "metadata": {
  "kernelspec": {
   "display_name": "Python 3 (ipykernel)",
   "language": "python",
   "name": "python3"
  },
  "language_info": {
   "codemirror_mode": {
    "name": "ipython",
    "version": 3
   },
   "file_extension": ".py",
   "mimetype": "text/x-python",
   "name": "python",
   "nbconvert_exporter": "python",
   "pygments_lexer": "ipython3",
   "version": "3.9.13"
  }
 },
 "nbformat": 4,
 "nbformat_minor": 5
}
